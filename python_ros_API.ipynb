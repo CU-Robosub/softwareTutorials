{
 "cells": [
  {
   "cell_type": "markdown",
   "metadata": {},
   "source": [
    "# Introduction to Python with ROS\n",
    "In this notebook, we will go over some of the fundamental python concepts to get started with programming for Colorado RoboSub. If you have not used python notebooks before, you can run a code cell by pressing the play button, or hit `command/control + shift`. Most of you have probably come from CSCI 1300, so you have some basic programming experinece. We will not go over the basic datatypes and classes, but rather the ROS2 API."
   ]
  },
  {
   "cell_type": "markdown",
   "metadata": {},
   "source": [
    "## Fundamental Concepts\n",
    "\n",
    "This section will describe some of the fundamental concepts needed to work with ROS, and how to implement some of that stuff in Python. For more information, please visit the [ROS2 tutorials](https://docs.ros.org/en/humble/Tutorials.html). Note also, unless you have a native Ubuntu installation, the turtlesim tutorial described in the tutorials won't work.\n",
    "\n",
    "### Nodes\n",
    "\n",
    "You can think of a node as a single program. They can do a variety of different things. In the context of the submarine, we have nodes that send a PWM signal to the motors to make them move, a node to take in Joystick input, a node that publishes camera data, etc. Nodes publish data over something called a *topic*. Nodes can also subscribe to topic data, such that it can be manipulated.\n",
    "\n",
    "### Topics\n",
    "\n",
    "You can think of topics as the pipes that transport data between programs. A robot can have multiple different nodes running at the same time, but those nodes need to communicate with each other. Described in a little more detail here, we can take our joystick data and publish it over a topic called `/joy`. With another node (a different Python program), we can *subscribe* to the topic and modify that data such that it sends the right data to a `/cmd_vel` topic (another pipe), which then sends the data to yet another node that powers the motors.\n",
    "\n",
    "All of the nodes, when there is a change in some data, will send a *message* to each of their targeted topics.\n",
    "\n",
    "### The most basic example (stolen from the ROS docs)"
   ]
  },
  {
   "cell_type": "code",
   "execution_count": null,
   "metadata": {},
   "outputs": [],
   "source": [
    "# simple python publisher\n",
    "\n",
    "import rclpy\n",
    "from rclpy.node import Node\n",
    "\n",
    "from std_msgs.msg import String\n",
    "\n",
    "\n",
    "class MinimalPublisher(Node):\n",
    "\n",
    "    def __init__(self):\n",
    "        super().__init__('minimal_publisher') # node name\n",
    "        self.publisher_ = self.create_publisher(String, 'topic', 10) # the topic is called \"topic\" - queue size is for backfill of messages\n",
    "        timer_period = 0.5  # seconds\n",
    "        self.timer = self.create_timer(timer_period, self.timer_callback) # every 0.5 seconds, call the timer_callback function\n",
    "        self.i = 0\n",
    "\n",
    "    def timer_callback(self):\n",
    "        msg = String()\n",
    "        msg.data = 'Hello World: %d' % self.i\n",
    "        self.publisher_.publish(msg)\n",
    "        self.get_logger().info('Publishing: \"%s\"' % msg.data)\n",
    "        self.i += 1\n",
    "\n",
    "\n",
    "def main(args=None):\n",
    "    rclpy.init(args=args)\n",
    "\n",
    "    minimal_publisher = MinimalPublisher()\n",
    "\n",
    "    rclpy.spin(minimal_publisher)\n",
    "\n",
    "    # Destroy the node explicitly\n",
    "    # (optional - otherwise it will be done automatically\n",
    "    # when the garbage collector destroys the node object)\n",
    "    minimal_publisher.destroy_node()\n",
    "    rclpy.shutdown()\n",
    "\n",
    "\n",
    "if __name__ == '__main__':\n",
    "    main()"
   ]
  },
  {
   "cell_type": "code",
   "execution_count": null,
   "metadata": {},
   "outputs": [],
   "source": [
    "# minimal subscriber\n",
    "\n",
    "import rclpy\n",
    "from rclpy.node import Node\n",
    "\n",
    "from std_msgs.msg import String\n",
    "\n",
    "\n",
    "class MinimalSubscriber(Node):\n",
    "\n",
    "    def __init__(self):\n",
    "        super().__init__('minimal_subscriber')\n",
    "        self.subscription = self.create_subscription(\n",
    "            String,\n",
    "            'topic',\n",
    "            self.listener_callback,\n",
    "            10)\n",
    "        self.subscription  # prevent unused variable warning\n",
    "\n",
    "    def listener_callback(self, msg): # upon hearing a message, call this function\n",
    "        self.get_logger().info('I heard: \"%s\"' % msg.data)\n",
    "\n",
    "\n",
    "def main(args=None):\n",
    "    rclpy.init(args=args)\n",
    "\n",
    "    minimal_subscriber = MinimalSubscriber()\n",
    "\n",
    "    rclpy.spin(minimal_subscriber)\n",
    "\n",
    "    # Destroy the node explicitly\n",
    "    # (optional - otherwise it will be done automatically\n",
    "    # when the garbage collector destroys the node object)\n",
    "    minimal_subscriber.destroy_node()\n",
    "    rclpy.shutdown()\n",
    "\n",
    "\n",
    "if __name__ == '__main__':\n",
    "    main()"
   ]
  },
  {
   "cell_type": "markdown",
   "metadata": {},
   "source": [
    "### Message types\n",
    "\n",
    "There are several different messages that we can pass over ROS. In the example above, we passed a `String` type. Notice, it's still it's own imported class (different than python). ROS has several message types that come with the standard installation. Some of our most common are listed below:\n",
    "- Geometry Messages\n",
    "    - Twist\n",
    "    - Pose\n",
    "- Standard Messages\n",
    "    - String\n",
    "    - Boolean\n",
    "\n",
    "For a comprehensive list of geometry messages, look [here](https://docs.ros2.org/galactic/api/geometry_msgs/index-msg.html).\n",
    "\n",
    "For a comprehensive list of standard messages, look [here](https://docs.ros2.org/galactic/api/std_msgs/index-msg.html)."
   ]
  },
  {
   "cell_type": "markdown",
   "metadata": {},
   "source": [
    "ROS is a much more comprehensive tool, but this example serves on how to write ROS nodes. You may find the ROS commands listed in another .ipynb useful for debugging."
   ]
  },
  {
   "cell_type": "markdown",
   "metadata": {},
   "source": [
    "### Packages and Launch Files\n",
    "\n",
    "You can think of packages as a folder containing a collection of related nodes. Python packages can be created by doing `ros2 pkg create --build-type ament_python <package_name>` in the `src` directory of the `cusub2.1` workspace. C++ packages can be created using `ros2 pkg create --build-type ament_cmake <package_name>`. ROS nodes must exist within these packages. More often than not, if you are writing task code, the tasks package has been created for you.\n",
    "\n",
    "There is a defined structure to these packages:\n",
    "```\n",
    "src\n",
    "└── teleoperation\n",
    "    ├── launch\n",
    "    │   └── teleop_launch.xml # launch file for the package (not required)\n",
    "    ├── package.xml\n",
    "    ├── resource # necessary for ROS filepath finding for packages\n",
    "    │   └── teleoperation\n",
    "    ├── setup.cfg\n",
    "    ├── setup.py # configuration for launch files done here\n",
    "    ├── teleoperation\n",
    "    │   ├── __init__.py\n",
    "    │   ├── joyListener.py\n",
    "```\n",
    "\n",
    "Generally, all of your code should be within src/pkg_name/pkg_name.\n",
    "\n",
    "Launch files are simply a way to launch a set of nodes from a package. In most instances, we only have a singular node in each package (this will change). You will notice that you can launch an individual node from the terminal, but if you have multiple nodes that you need to run in a package, that is where the launch file comes in. Details for how to launch something are in the cheat sheet file."
   ]
  },
  {
   "cell_type": "markdown",
   "metadata": {},
   "source": [
    "### Practice Exersises\n",
    "1. Create a publisher that publishes a message with your name every two seconds. Create a subscriber that prints that message using `self.get_logger().info(\"<msg>\")`\n",
    "2. Create a subscriber that takes in joystick `Twist` data from the `/joy` topic and logs when the trigger is pressed, and when the joystick is pulled all the way back."
   ]
  }
 ],
 "metadata": {
  "kernelspec": {
   "display_name": "base",
   "language": "python",
   "name": "python3"
  },
  "language_info": {
   "name": "python",
   "version": "3.10.12"
  }
 },
 "nbformat": 4,
 "nbformat_minor": 2
}
