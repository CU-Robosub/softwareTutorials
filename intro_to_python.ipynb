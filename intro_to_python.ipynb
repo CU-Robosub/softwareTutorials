{
 "cells": [
  {
   "cell_type": "markdown",
   "metadata": {},
   "source": [
    "# Introduction to Python\n",
    "\n",
    "This guide covers the basics of Python, including data types, lists, dictionaries, functions, and classes, with simple code examples to illustrate each concept. If you have not used python notebooks before, you can run a code cell by pressing the play button, or hit `command/control + shift`."
   ]
  },
  {
   "cell_type": "markdown",
   "metadata": {},
   "source": [
    "## Datatypes\n",
    "\n",
    "### **Integer (`int`)**\n",
    "Whole numbers, positive or negative, without decimals.\n",
    "```\n",
    "x = 10\n",
    "y = -5\n",
    "```\n",
    "### **Float (`float`)**\n",
    "Numbers with a decimal point\n",
    "```\n",
    "pi = 3.14\n",
    "```\n",
    "\n",
    "### **String (`str`)**\n",
    "Text\n",
    "```\n",
    "name = \"Johnny\"\n",
    "```\n",
    "### **Boolean (`bool`)**\n",
    "Either true or false\n",
    "```\n",
    "someBool = False\n",
    "```\n",
    "\n",
    "### **Lists**\n",
    "An ordered, mutable collection of items. They must all be of the same type.\n",
    "```\n",
    "someList = [\"this\", \"is\", \"a\", \"list\"]\n",
    "print(someList[2]) # prints 'a'. Lists in Python are \"zero indexed\"\n",
    "```\n",
    "\n",
    "### **Dictionaries**\n",
    "Unordered, mutable collections of key-value pairs.\n",
    "```\n",
    "someDict = {\"Name\" : \"Johnny\", \"Age\" : 29}\n",
    "print(someDict[Age]) # prints 29\n",
    "```"
   ]
  },
  {
   "cell_type": "markdown",
   "metadata": {},
   "source": [
    "Datatypes in Python nested - for example, we can have a list of lists, or a list of dictionaries, or a dictionary containing a list, or whatever. There are much more dataypes that we could talk about, but these are the basics."
   ]
  },
  {
   "cell_type": "markdown",
   "metadata": {},
   "source": [
    "## Loops and Conditionals\n",
    "Conditionals are simple: If something evaluates to `True` in an `if` statement, that statement will execute. If its not, then the else statement will exectute. If You have a chained bit of `if-elif-else` blocks, the code runs top down, thus will check the `elif` block before defaulting to `else`."
   ]
  },
  {
   "cell_type": "code",
   "execution_count": null,
   "metadata": {},
   "outputs": [],
   "source": [
    "x = 10\n",
    "\n",
    "if x > 10:\n",
    "    print(\"x is greater than 10\")\n",
    "elif x == 10:\n",
    "    print(\"x is equal to 10\")\n",
    "else:\n",
    "    print(\"x is less than 10\")"
   ]
  },
  {
   "cell_type": "markdown",
   "metadata": {},
   "source": [
    "Loops are useful for changing data within lists or dictionaries, and often pair with conditionals. "
   ]
  },
  {
   "cell_type": "code",
   "execution_count": null,
   "metadata": {},
   "outputs": [],
   "source": [
    "count = 0\n",
    "\n",
    "while count < 5:\n",
    "    if count % 2 == 0:\n",
    "        print(f\"{count} is even\")\n",
    "    else:\n",
    "        print(f\"{count} is odd\")\n",
    "    count += 1\n"
   ]
  },
  {
   "cell_type": "code",
   "execution_count": null,
   "metadata": {},
   "outputs": [],
   "source": [
    "numbers = [1, 2, 3, 4, 5]\n",
    "\n",
    "for num in numbers:\n",
    "    if num > 3:\n",
    "        print(f\"{num} is greater than 3\")\n",
    "    else:\n",
    "        print(f\"{num} is less than or equal to 3\")\n"
   ]
  },
  {
   "cell_type": "markdown",
   "metadata": {},
   "source": [
    "## Classes and Functions\n",
    "Functions are something we can call to have them do something. The can take a set of parameters that can be set with defaults. If the defaults are not set, the parameter is required."
   ]
  },
  {
   "cell_type": "code",
   "execution_count": null,
   "metadata": {},
   "outputs": [],
   "source": [
    "def printHelloWorld():\n",
    "    print(\"Hello, World!\")\n",
    "    \n",
    "def addTwoNumbers(a, b = 0):\n",
    "    return a + b\n",
    "\n",
    "def countEvenNumbers(numbers):\n",
    "    count = 0\n",
    "    for n in numbers:\n",
    "        if (n % 2 == 0):\n",
    "            count += 1\n",
    "    return count\n",
    "    "
   ]
  },
  {
   "cell_type": "markdown",
   "metadata": {},
   "source": [
    "Classes exist as a \"group of related things\". So, you can create something called an object that is an instance of that class. They can have properties like strings, ints, and floats, and methods that you can use to act on those properties. To access something from a class, we use \"dot\" notation."
   ]
  },
  {
   "cell_type": "code",
   "execution_count": null,
   "metadata": {},
   "outputs": [],
   "source": [
    "class Car:\n",
    "    def __init__(self, make, model, year):\n",
    "        # Constructor to initialize the car's attributes\n",
    "        self.make = make\n",
    "        self.model = model\n",
    "        self.year = year\n",
    "        self.is_running = False  # Initial state is off\n",
    "    \n",
    "    def start(self):\n",
    "        # Method to start the car\n",
    "        if not self.is_running:\n",
    "            self.is_running = True\n",
    "            return f\"The {self.year} {self.make} {self.model} has started.\"\n",
    "        else:\n",
    "            return f\"The {self.year} {self.make} {self.model} is already running.\"\n",
    "    \n",
    "    def stop(self):\n",
    "        # Method to stop the car\n",
    "        if self.is_running:\n",
    "            self.is_running = False\n",
    "            return f\"The {self.year} {self.make} {self.model} has stopped.\"\n",
    "        else:\n",
    "            return f\"The {self.year} {self.make} {self.model} is already stopped.\"\n",
    "\n",
    "# Example usage:\n",
    "my_car = Car(\"Toyota\", \"Camry\", 2020)\n",
    "\n",
    "print(my_car.start())  # Output: The 2020 Toyota Camry has started.\n",
    "print(my_car.stop())   # Output: The 2020 Toyota Camry has stopped.\n"
   ]
  },
  {
   "cell_type": "markdown",
   "metadata": {},
   "source": [
    "Notice, Python has a `__init__` function for the class. This is a function that gets run the first time the object gets created. In other programming languages, this is often called the constructor. Also, all methods that belong to the class must have the self parameter in their method declaration."
   ]
  },
  {
   "cell_type": "markdown",
   "metadata": {},
   "source": []
  }
 ],
 "metadata": {
  "language_info": {
   "name": "python"
  }
 },
 "nbformat": 4,
 "nbformat_minor": 2
}
